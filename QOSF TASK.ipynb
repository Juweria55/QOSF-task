{
 "cells": [
  {
   "cell_type": "markdown",
   "id": "327495d5",
   "metadata": {},
   "source": [
    "# ZNE"
   ]
  },
  {
   "cell_type": "markdown",
   "id": "0ad92c0c",
   "metadata": {},
   "source": [
    "\n",
    "Zero-noise extrapolation (ZNE) is a noise mitigation technique. It works by intentionally scaling the noise of a quantum circuit to then extrapolate the zero-noise limit of an observable of interest. In this task, you will build a simple ZNE function from scratch:\n",
    "\n"
   ]
  },
  {
   "cell_type": "markdown",
   "id": "147665b9",
   "metadata": {},
   "source": [
    "1. Build a simple noise model with depolarizing noise \n",
    "\n",
    "\n",
    "2. Create different circuits to test your noise models and choose the observable to measure \n",
    "\n",
    "\n",
    "\n",
    "3. Apply the unitary folding method. \n",
    "\n",
    "\n",
    "4. Apply the extrapolation method to get the zero-noise limit. Different extrapolation methods achieve different results, such as Linear, polynomial, and exponential.\n",
    "\n",
    "\n",
    "5. Compare mitigated and unmitigated results \n",
    "\n",
    "\n",
    "Bonus: Run your ZNE function in real quantum hardware through the IBM Quantum Service\n",
    "\n",
    "\n",
    "Check the Mitiq documentation for references. You are not allowed to use the functions from Mitiq or any other frameworks where ZNE is already implemented."
   ]
  },
  {
   "cell_type": "markdown",
   "id": "b8137124",
   "metadata": {},
   "source": [
    "# Step 1\n",
    "Building a simple noise model with depolarising noise"
   ]
  },
  {
   "cell_type": "code",
   "execution_count": 321,
   "id": "28c5a156",
   "metadata": {},
   "outputs": [],
   "source": [
    "import qiskit\n",
    "from qiskit.test.ibmq_mock import mock_get_backend\n",
    "from qiskit_aer import Aer\n",
    "from qiskit import IBMQ, QuantumCircuit, execute\n",
    "from qiskit.providers.aer import AerSimulator\n",
    "from qiskit.providers.aer.noise import NoiseModel\n",
    "from mitiq import zne\n",
    "from mitiq.interface.mitiq_qiskit.qiskit_utils import initialized_depolarizing_noise"
   ]
  },
  {
   "cell_type": "code",
   "execution_count": 322,
   "id": "9878f200-3e71-49a7-aff8-62ae789bb8ab",
   "metadata": {},
   "outputs": [],
   "source": [
    "USE_REAL_HARDWARE = False"
   ]
  },
  {
   "cell_type": "code",
   "execution_count": 323,
   "id": "7d93f729",
   "metadata": {},
   "outputs": [
    {
     "name": "stdout",
     "output_type": "stream",
     "text": [
      "NoiseModel:\n",
      "  Basis gates: ['cx', 'id', 'rz', 'sx', 'u1', 'u2', 'u3']\n",
      "  Instructions with noise: ['u3', 'u2', 'u1']\n",
      "  All-qubits errors: ['u1', 'u2', 'u3']\n"
     ]
    }
   ],
   "source": [
    "from qiskit_aer.noise import NoiseModel\n",
    "from qiskit.providers.aer.noise import NoiseModel, depolarizing_error\n",
    "\n",
    "noise_model = NoiseModel()\n",
    "\n",
    "# Add depolarizing error to all single qubit u1, u2, u3 gates\n",
    "error = depolarizing_error(0.1, 1)\n",
    "noise_model.add_all_qubit_quantum_error(error, ['u1', 'u2', 'u3'])\n",
    " \n",
    "# Print noise model info\n",
    "print(noise_model)"
   ]
  },
  {
   "cell_type": "code",
   "execution_count": 307,
   "id": "8aaa69cc",
   "metadata": {},
   "outputs": [],
   "source": [
    "#from qiskit_aer.noise import NoiseModel\n",
    "#from qiskit.providers.aer.noise import NoiseModel, depolarizing_error\n",
    "\n",
    "#noise_model = NoiseModel()\n",
    "\n",
    "#def execute(circuit, noise_level=0.010):\n",
    "    \n",
    "    #return circuit\n",
    "  "
   ]
  },
  {
   "cell_type": "code",
   "execution_count": 271,
   "id": "d7bdf180",
   "metadata": {},
   "outputs": [
    {
     "name": "stdout",
     "output_type": "stream",
     "text": [
      "NoiseModel: Ideal\n"
     ]
    }
   ],
   "source": [
    "#print (noise_model)"
   ]
  },
  {
   "cell_type": "code",
   "execution_count": null,
   "id": "497fc2bd",
   "metadata": {},
   "outputs": [],
   "source": []
  },
  {
   "cell_type": "code",
   "execution_count": null,
   "id": "dfb0c7ce",
   "metadata": {},
   "outputs": [],
   "source": [
    "\n"
   ]
  },
  {
   "cell_type": "code",
   "execution_count": null,
   "id": "ebdc8e41",
   "metadata": {},
   "outputs": [],
   "source": []
  },
  {
   "cell_type": "code",
   "execution_count": null,
   "id": "40fe1eb6",
   "metadata": {},
   "outputs": [],
   "source": []
  },
  {
   "cell_type": "code",
   "execution_count": null,
   "id": "88417c49",
   "metadata": {},
   "outputs": [],
   "source": []
  },
  {
   "cell_type": "code",
   "execution_count": null,
   "id": "6c2d91c4",
   "metadata": {},
   "outputs": [],
   "source": []
  },
  {
   "cell_type": "markdown",
   "id": "1a436138",
   "metadata": {},
   "source": [
    "# Step 2\n",
    "Create different circuits to test your noise models and choose the observable to measure"
   ]
  },
  {
   "cell_type": "code",
   "execution_count": 324,
   "id": "1762e853",
   "metadata": {},
   "outputs": [],
   "source": [
    "from qiskit_aer.noise import NoiseModel\n",
    "from qiskit.providers.aer.noise import NoiseModel, depolarizing_error\n",
    "\n",
    "\n",
    "n_qubits = 2\n",
    "depth_circ = 100\n",
    "shots = 10**4\n",
    "noise_model = NoiseModel()\n",
    "\n",
    "circ = QuantumCircuit(n_qubits)\n",
    "circ.h(0)\n",
    "for qubit in range(n_qubits - 1):\n",
    "    circ.cx(qubit, qubit + 1)\n",
    "    circ.measure_all()\n",
    "#print(circ)\n",
    "\n",
    "def execute(circ, noise_level=0.005):\n",
    "    noisy_circuit = circuit.with_noise(depolarize(p=noise_level))\n",
    "    \n",
    "    return circuit\n",
    "\n",
    "\n",
    "    \n",
    "    "
   ]
  },
  {
   "cell_type": "code",
   "execution_count": 325,
   "id": "f6e5165d-0372-463f-805a-7e6ddbb832f6",
   "metadata": {},
   "outputs": [
    {
     "data": {
      "image/png": "[encoded data removed]",
      "text/plain": [
       "<Figure size 580.387x284.278 with 1 Axes>"
      ]
     },
     "execution_count": 325,
     "metadata": {},
     "output_type": "execute_result"
    }
   ],
   "source": [
    "circ.draw(output='mpl',style=\"clifford\")"
   ]
  },
  {
   "cell_type": "code",
   "execution_count": 277,
   "id": "a05d0a49-0378-4a2d-9cfa-5d486fbb741a",
   "metadata": {},
   "outputs": [],
   "source": [
    "#noise_model = initialized_depolarizing_noise(noise_level=0.02)\n",
    "#job = qiskit.execute(backend=Aer.get_backend(\"qasm_simulator\"),\n",
    "            #noise_model=noise_model,\n",
    "            #basis_gates=noise_model.basis_gates,\n",
    "            #optimization_level=0,  # Important to preserve folded gates.        \n",
    "\n",
    "  \n",
    "# Convert from raw measurement counts to the expectation value\n",
    "#counts = job.result().get_counts()\n",
    "#if counts.get(\"0\") is None:\n",
    "    #expectation_value = 0.\n",
    "#else:\n",
    "    #expectation_value = counts.get(\"0\") / shots\n",
    "\n",
    "#return expectation_value"
   ]
  },
  {
   "cell_type": "code",
   "execution_count": 251,
   "id": "3ee40505",
   "metadata": {},
   "outputs": [],
   "source": [
    "#from qiskit.tools.visualization import plot_histogram\n",
    "#plot_histogram(circ)"
   ]
  },
  {
   "cell_type": "code",
   "execution_count": null,
   "id": "bf498eb9",
   "metadata": {},
   "outputs": [],
   "source": []
  },
  {
   "cell_type": "markdown",
   "id": "e8ae2627",
   "metadata": {},
   "source": [
    "# Step 3\n",
    "Apply unitary folding method"
   ]
  },
  {
   "cell_type": "code",
   "execution_count": 252,
   "id": "a167a5b3",
   "metadata": {},
   "outputs": [],
   "source": [
    "#noise_scaling_function = zne.scaling.fold_global"
   ]
  },
  {
   "cell_type": "code",
   "execution_count": 253,
   "id": "d1420254",
   "metadata": {},
   "outputs": [],
   "source": [
    "#noise_scaled_circ = noise_scaling_function(circ, scale_factor=2)\n",
    "\n",
    "\n",
    "#print(f\"The input circuit has {len(circ)} gates\")\n",
    "#print(f\"The scaled circuit has {len(noise_scaled_circ)} gates\")"
   ]
  },
  {
   "cell_type": "code",
   "execution_count": 326,
   "id": "c98d299a-c460-4ab2-ba28-fdcddade9b85",
   "metadata": {},
   "outputs": [
    {
     "name": "stdout",
     "output_type": "stream",
     "text": [
      "Locally folded circuit:\n",
      "        ┌───┐┌───┐┌───┐┌───┐┌───┐               ┌─┐   \n",
      "   q_0: ┤ H ├┤ H ├┤ H ├┤ H ├┤ H ├──■────■────■──┤M├───\n",
      "        └───┘└───┘└───┘└───┘└───┘┌─┴─┐┌─┴─┐┌─┴─┐└╥┘┌─┐\n",
      "   q_1: ─────────────────────────┤ X ├┤ X ├┤ X ├─╫─┤M├\n",
      "                                 └───┘└───┘└───┘ ║ └╥┘\n",
      "meas: 2/═════════════════════════════════════════╩══╩═\n",
      "                                                 0  1 \n"
     ]
    }
   ],
   "source": [
    "scaled_circuit = zne.scaling.fold_gates_at_random(circ, scale_factor=4)#local folding\n",
    "print(\"Locally folded circuit:\", scaled_circuit, sep=\"\\n\")\n"
   ]
  },
  {
   "cell_type": "code",
   "execution_count": 327,
   "id": "04ec3bf7-858c-4f15-891f-66b32e25af60",
   "metadata": {},
   "outputs": [
    {
     "name": "stdout",
     "output_type": "stream",
     "text": [
      "Globally folded circuit:\n",
      "        ┌───┐          ┌───┐┌───┐               ┌─┐   \n",
      "   q_0: ┤ H ├──■────■──┤ H ├┤ H ├──■────■────■──┤M├───\n",
      "        └───┘┌─┴─┐┌─┴─┐└───┘└───┘┌─┴─┐┌─┴─┐┌─┴─┐└╥┘┌─┐\n",
      "   q_1: ─────┤ X ├┤ X ├──────────┤ X ├┤ X ├┤ X ├─╫─┤M├\n",
      "             └───┘└───┘          └───┘└───┘└───┘ ║ └╥┘\n",
      "meas: 2/═════════════════════════════════════════╩══╩═\n",
      "                                                 0  1 \n"
     ]
    }
   ],
   "source": [
    "scaled_circuit = zne.scaling.fold_global(circ, scale_factor=4)#global folding\n",
    "print(\"Globally folded circuit:\", scaled_circuit, sep=\"\\n\")"
   ]
  },
  {
   "cell_type": "code",
   "execution_count": 240,
   "id": "f8bcb4a7-b081-4900-a313-ce6047084e88",
   "metadata": {},
   "outputs": [],
   "source": [
    "#scaled_circuit = zne.scaling.fold_gates_at_random(circuit, scale_factor=3)\n",
    "#print(\"Locally folded circuit:\", scaled_circuit, sep=\"\\n\")"
   ]
  },
  {
   "cell_type": "markdown",
   "id": "7104b753",
   "metadata": {},
   "source": [
    "# Step 4\n",
    "Apply the extrapolation method to get the zero-noise limit. Different extrapolation methods achieve different results, such as Linear, polynomial, and exponential."
   ]
  },
  {
   "cell_type": "code",
   "execution_count": 334,
   "id": "4f1e41e2",
   "metadata": {},
   "outputs": [],
   "source": [
    "#factory = zne.inference.AdaExpFactory(steps=10, asymptote=0.25)\n",
    "factory = zne.inference.ExpFactory(scale_factors=[1, 2, 3], asymptote=0.25)\n",
    "# Examples:\n",
    "\n",
    "#Richardson extrapolation\n",
    "#factory = zne.inference.RichardsonFactory(scale_factors = [1, 2, 3])\n",
    "\n",
    " #Exponential extrapolation\n",
    "#factory = zne.inference.ExpFactory(scale_factors = [1, 2, 3], asymptote=0.25)\n",
    "\n",
    "# Exponential adaptive extrapolation\n",
    "# factory = zne.inference.AdaExpFactory(steps=10, asymptote=0.25)"
   ]
  },
  {
   "cell_type": "code",
   "execution_count": 319,
   "id": "5497401e",
   "metadata": {},
   "outputs": [],
   "source": [
    "#from mitiq import zne\n",
    "# Default extrapolation method in Mitiq\n",
    "#richardson_factory = zne.inference.RichardsonFactory(scale_factors=[1, 2, 3])"
   ]
  },
  {
   "cell_type": "code",
   "execution_count": null,
   "id": "4b1b506d-b730-4e63-b92f-2a3133c09f6b",
   "metadata": {},
   "outputs": [],
   "source": []
  },
  {
   "cell_type": "code",
   "execution_count": null,
   "id": "c586fa5d-b204-429b-b038-7b462023b39b",
   "metadata": {},
   "outputs": [],
   "source": []
  },
  {
   "cell_type": "code",
   "execution_count": null,
   "id": "ee8f83f0-8efb-412a-983c-0a95b2c6a6ef",
   "metadata": {},
   "outputs": [],
   "source": []
  },
  {
   "cell_type": "markdown",
   "id": "a93b67c6",
   "metadata": {},
   "source": [
    "# Step 5\n",
    "Compare Mitigated and unmitigated results"
   ]
  },
  {
   "cell_type": "code",
   "execution_count": 335,
   "id": "05cb7f66",
   "metadata": {},
   "outputs": [
    {
     "name": "stdout",
     "output_type": "stream",
     "text": [
      "Unmitigated result 0.907\n",
      "Mitigated result 1.012\n"
     ]
    }
   ],
   "source": [
    "\n",
    "unmitigated = ibmq_executor(circuit)\n",
    "mitigated = zne.execute_with_zne(circuit, ibmq_executor)\n",
    "print(f\"Unmitigated result {unmitigated:.3f}\")\n",
    "print(f\"Mitigated result {mitigated:.3f}\")"
   ]
  },
  {
   "cell_type": "code",
   "execution_count": null,
   "id": "bca7537f",
   "metadata": {},
   "outputs": [],
   "source": []
  },
  {
   "cell_type": "code",
   "execution_count": null,
   "id": "d72f9540",
   "metadata": {},
   "outputs": [],
   "source": []
  },
  {
   "cell_type": "code",
   "execution_count": null,
   "id": "60fcff49",
   "metadata": {},
   "outputs": [],
   "source": []
  },
  {
   "cell_type": "code",
   "execution_count": null,
   "id": "bf72ab1b",
   "metadata": {},
   "outputs": [],
   "source": []
  },
  {
   "cell_type": "code",
   "execution_count": null,
   "id": "0745646a",
   "metadata": {},
   "outputs": [],
   "source": []
  },
  {
   "cell_type": "code",
   "execution_count": 302,
   "id": "255c9ba3",
   "metadata": {},
   "outputs": [],
   "source": [
    "#from qiskit import IBMQ\n",
    "\n",
    "#provider = IBMQ.enable_account('bb79f1dce344c6350c03b54cebef427427eeda3cd21e206b8d52f9992255fe3553f98b09b58b7a3d6667d2292541685ac115e9776de1376086184c5cd669baeb')\n",
    "#backend = provider.get_backend('ibmq_qasm_simulator')"
   ]
  },
  {
   "cell_type": "code",
   "execution_count": null,
   "id": "7f6361d9-9c64-41af-b809-d235fac13d01",
   "metadata": {},
   "outputs": [],
   "source": []
  },
  {
   "cell_type": "code",
   "execution_count": null,
   "id": "633e2e0e-e328-4b75-99dc-c07c71562a00",
   "metadata": {},
   "outputs": [],
   "source": []
  },
  {
   "cell_type": "code",
   "execution_count": null,
   "id": "3eb17d98-d887-4faf-b81f-294c189e0218",
   "metadata": {},
   "outputs": [],
   "source": []
  },
  {
   "cell_type": "code",
   "execution_count": null,
   "id": "437e3bfa-7c6a-4df5-94dd-8aadd6fb5f28",
   "metadata": {},
   "outputs": [],
   "source": []
  },
  {
   "cell_type": "code",
   "execution_count": null,
   "id": "cb1ae73b-05ae-4655-ad85-93f00a509b9d",
   "metadata": {},
   "outputs": [],
   "source": []
  },
  {
   "cell_type": "code",
   "execution_count": 158,
   "id": "07e22136-3c2d-449a-8862-2cff05d2e275",
   "metadata": {},
   "outputs": [],
   "source": [
    "import qiskit\n",
    "from qiskit.test.ibmq_mock import mock_get_backend\n",
    "from qiskit_aer import Aer\n",
    "from qiskit_ibm_provider import IBMProvider\n",
    "\n",
    "from mitiq import zne\n",
    "from mitiq.interface.mitiq_qiskit.qiskit_utils import initialized_depolarizing_noise"
   ]
  },
  {
   "cell_type": "code",
   "execution_count": 159,
   "id": "592eb6b7-105c-446d-bd4a-c928f123d82f",
   "metadata": {},
   "outputs": [],
   "source": [
    "USE_REAL_HARDWARE = False"
   ]
  },
  {
   "cell_type": "code",
   "execution_count": 160,
   "id": "f8878545-380e-4187-88d4-d9e27796922b",
   "metadata": {},
   "outputs": [
    {
     "name": "stdout",
     "output_type": "stream",
     "text": [
      "      ┌───┐┌───┐┌───┐┌───┐┌───┐┌───┐┌───┐┌───┐┌───┐┌───┐┌─┐\n",
      " q38: ┤ X ├┤ X ├┤ X ├┤ X ├┤ X ├┤ X ├┤ X ├┤ X ├┤ X ├┤ X ├┤M├\n",
      "      └───┘└───┘└───┘└───┘└───┘└───┘└───┘└───┘└───┘└───┘└╥┘\n",
      "c1: 1/═══════════════════════════════════════════════════╩═\n",
      "                                                         0 \n"
     ]
    }
   ],
   "source": [
    "qreg, creg = qiskit.QuantumRegister(1), qiskit.ClassicalRegister(1)\n",
    "circuit = qiskit.QuantumCircuit(qreg, creg)\n",
    "for _ in range(10):\n",
    "    circuit.x(qreg)\n",
    "circuit.measure(qreg, creg)\n",
    "print(circuit)"
   ]
  },
  {
   "cell_type": "code",
   "execution_count": 161,
   "id": "3742dea7-5343-4663-92ec-33dcdd7c5912",
   "metadata": {},
   "outputs": [],
   "source": [
    "if IBMProvider.saved_accounts() and USE_REAL_HARDWARE:\n",
    "    provider = IBMProvider()\n",
    "    backend = provider.get_backend(\"ibmq_qasm_simulator\")  # Set quantum computer here!\n",
    "else:\n",
    "    # Default to a simulator.\n",
    "    backend = Aer.get_backend(\"qasm_simulator\"),\n",
    "\n",
    "\n",
    "def ibmq_executor(circuit: qiskit.QuantumCircuit, shots: int = 8192) -> float:\n",
    "    \"\"\"Returns the expectation value to be mitigated.\n",
    "\n",
    "    Args:\n",
    "        circuit: Circuit to run.\n",
    "        shots: Number of times to execute the circuit to compute the expectation value.\n",
    "    \"\"\"\n",
    "    if USE_REAL_HARDWARE:\n",
    "        # Run the circuit on hardware\n",
    "        job = qiskit.execute(\n",
    "            experiments=circuit,\n",
    "            backend=backend,\n",
    "            optimization_level=0,  # Important to preserve folded gates.\n",
    "            shots=shots\n",
    "        )\n",
    "    else:\n",
    "        # Simulate the circuit with noise\n",
    "        noise_model = initialized_depolarizing_noise(noise_level=0.02)\n",
    "        job = qiskit.execute(\n",
    "            experiments=circuit,\n",
    "            backend=Aer.get_backend(\"qasm_simulator\"),\n",
    "            noise_model=noise_model,\n",
    "            basis_gates=noise_model.basis_gates,\n",
    "            optimization_level=0,  # Important to preserve folded gates.\n",
    "            shots=shots,\n",
    "        )\n",
    "\n",
    "    # Convert from raw measurement counts to the expectation value\n",
    "    counts = job.result().get_counts()\n",
    "    if counts.get(\"0\") is None:\n",
    "        expectation_value = 0.\n",
    "    else:\n",
    "        expectation_value = counts.get(\"0\") / shots\n",
    "    return expectation_value"
   ]
  },
  {
   "cell_type": "code",
   "execution_count": 162,
   "id": "561e0d58-9d41-4644-9f2e-e68714a178b1",
   "metadata": {},
   "outputs": [
    {
     "name": "stdout",
     "output_type": "stream",
     "text": [
      "Unmitigated result 0.909\n",
      "Mitigated result 0.967\n"
     ]
    }
   ],
   "source": [
    "unmitigated = ibmq_executor(circuit)\n",
    "mitigated = zne.execute_with_zne(circuit, ibmq_executor)\n",
    "print(f\"Unmitigated result {unmitigated:.3f}\")\n",
    "print(f\"Mitigated result {mitigated:.3f}\")"
   ]
  },
  {
   "cell_type": "code",
   "execution_count": 163,
   "id": "e4423635-ca17-4dac-9a43-3e5b2c01d7b6",
   "metadata": {},
   "outputs": [
    {
     "name": "stdout",
     "output_type": "stream",
     "text": [
      "Mitigated result 0.965\n"
     ]
    }
   ],
   "source": [
    "linear_factory = zne.inference.LinearFactory(scale_factors=[1.0, 1.5, 2.0, 2.5, 3.0])\n",
    "mitigated = zne.execute_with_zne(circuit, ibmq_executor, factory=linear_factory)\n",
    "print(f\"Mitigated result {mitigated:.3f}\")"
   ]
  },
  {
   "cell_type": "code",
   "execution_count": 164,
   "id": "c8a40963-2845-4777-a3a9-fa1c29ed94f3",
   "metadata": {},
   "outputs": [
    {
     "name": "stdout",
     "output_type": "stream",
     "text": [
      "Mitigated result 1.024\n"
     ]
    }
   ],
   "source": [
    "mitigated = zne.execute_with_zne(circuit, ibmq_executor, scale_noise=zne.scaling.fold_global)\n",
    "print(f\"Mitigated result {mitigated:.3f}\")"
   ]
  },
  {
   "cell_type": "code",
   "execution_count": null,
   "id": "4195f5b2-031a-46e9-84c7-f2039f8a581e",
   "metadata": {},
   "outputs": [],
   "source": []
  },
  {
   "cell_type": "code",
   "execution_count": null,
   "id": "1a7a9fbb-091f-4dd3-9106-5ac6ce8cef8e",
   "metadata": {},
   "outputs": [],
   "source": []
  }
 ],
 "metadata": {
  "kernelspec": {
   "display_name": "Python 3 (ipykernel)",
   "language": "python",
   "name": "python3"
  },
  "language_info": {
   "codemirror_mode": {
    "name": "ipython",
    "version": 3
   },
   "file_extension": ".py",
   "mimetype": "text/x-python",
   "name": "python",
   "nbconvert_exporter": "python",
   "pygments_lexer": "ipython3",
   "version": "3.11.8"
  }
 },
 "nbformat": 4,
 "nbformat_minor": 5
}
